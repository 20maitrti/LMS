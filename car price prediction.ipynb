{
 "cells": [
  {
   "cell_type": "markdown",
   "id": "938fc09a",
   "metadata": {},
   "source": [
    "<b>Tested on NVDIDIA GPU Computing Platform</b>"
   ]
  },
  {
   "cell_type": "markdown",
   "id": "6280c6d8",
   "metadata": {},
   "source": [
    "### Download dataset of car price prediction"
   ]
  },
  {
   "cell_type": "code",
   "execution_count": null,
   "id": "8802d34d",
   "metadata": {},
   "outputs": [],
   "source": [
    "!wget https://raw.github.com/roshancyriacmathew/Car-price-prediction-using-Linear-regression-Machine-Learning-Project/main/car%20data.csv"
   ]
  },
  {
   "cell_type": "code",
   "execution_count": null,
   "id": "8e5a7767",
   "metadata": {},
   "outputs": [],
   "source": [
    "!pip install seaborn"
   ]
  },
  {
   "cell_type": "code",
   "execution_count": null,
   "id": "6fef3124",
   "metadata": {},
   "outputs": [],
   "source": [
    "#import required libraries\n",
    "import pandas as pd\n",
    "import matplotlib.pyplot as plt\n",
    "%matplotlib inline\n",
    "from matplotlib import style\n",
    "import seaborn as sns\n",
    "from sklearn.model_selection import train_test_split\n",
    "from sklearn.preprocessing import StandardScaler\n",
    "from sklearn.linear_model import LinearRegression\n",
    "from sklearn.metrics import mean_absolute_error, mean_squared_error, r2_score\n",
    "from sklearn import metrics"
   ]
  },
  {
   "cell_type": "code",
   "execution_count": null,
   "id": "11e00342",
   "metadata": {},
   "outputs": [],
   "source": [
    "car_data = pd.read_csv('car data.csv')"
   ]
  },
  {
   "cell_type": "code",
   "execution_count": null,
   "id": "74017506",
   "metadata": {},
   "outputs": [],
   "source": [
    "car_data.head()"
   ]
  },
  {
   "cell_type": "code",
   "execution_count": null,
   "id": "38533333",
   "metadata": {},
   "outputs": [],
   "source": [
    "car_data.info()"
   ]
  },
  {
   "cell_type": "code",
   "execution_count": null,
   "id": "3069a072",
   "metadata": {},
   "outputs": [],
   "source": [
    "car_data.isnull().sum()"
   ]
  },
  {
   "cell_type": "code",
   "execution_count": null,
   "id": "29fef692",
   "metadata": {},
   "outputs": [],
   "source": [
    "car_data.describe()"
   ]
  },
  {
   "cell_type": "code",
   "execution_count": null,
   "id": "362083d9",
   "metadata": {},
   "outputs": [],
   "source": [
    "car_data.columns"
   ]
  },
  {
   "cell_type": "code",
   "execution_count": null,
   "id": "aa8b1743",
   "metadata": {},
   "outputs": [],
   "source": [
    "print(car_data['Fuel_Type'].value_counts())\n",
    "print(car_data['Seller_Type'].value_counts())\n",
    "print(car_data['Transmission'].value_counts())"
   ]
  },
  {
   "cell_type": "code",
   "execution_count": null,
   "id": "dc39bd6b",
   "metadata": {},
   "outputs": [],
   "source": [
    "fuel_type = car_data['Fuel_Type']\n",
    "seller_type = car_data['Seller_Type']\n",
    "transmission_type = car_data['Transmission']\n",
    "selling_price = car_data['Selling_Price']"
   ]
  },
  {
   "cell_type": "code",
   "execution_count": null,
   "id": "b68b1a23",
   "metadata": {},
   "outputs": [],
   "source": [
    "style.use('ggplot')\n",
    "fig = plt.figure(figsize=(15,5))\n",
    "fig.suptitle('Visualizing categorical data columns')\n",
    "plt.subplot(1,3,1)\n",
    "plt.bar(fuel_type,selling_price, color='royalblue')\n",
    "plt.xlabel(\"Fuel Type\")\n",
    "plt.ylabel(\"Selling Price\")\n",
    "plt.subplot(1,3,2)\n",
    "plt.bar(seller_type, selling_price, color='red')\n",
    "plt.xlabel(\"Seller Type\")\n",
    "plt.subplot(1,3,3)\n",
    "plt.bar(transmission_type, selling_price, color='purple')\n",
    "plt.xlabel('Transmission type')\n",
    "plt.show()"
   ]
  },
  {
   "cell_type": "code",
   "execution_count": null,
   "id": "878f0c5f",
   "metadata": {},
   "outputs": [],
   "source": [
    "fig, axes = plt.subplots(1,3,figsize=(15,5), sharey=True)\n",
    "fig.suptitle('Visualizing categorical columns')\n",
    "sns.barplot(x=fuel_type, y=selling_price, ax=axes[0])\n",
    "sns.barplot(x=seller_type, y=selling_price, ax=axes[1])\n",
    "sns.barplot(x=transmission_type, y=selling_price, ax=axes[2])"
   ]
  },
  {
   "cell_type": "code",
   "execution_count": null,
   "id": "69dd9d09",
   "metadata": {},
   "outputs": [],
   "source": [
    "petrol_data = car_data.groupby('Fuel_Type').get_group('Petrol')\n",
    "petrol_data.describe()"
   ]
  },
  {
   "cell_type": "code",
   "execution_count": null,
   "id": "31c0f4dd",
   "metadata": {},
   "outputs": [],
   "source": [
    "seller_data = car_data.groupby('Seller_Type').get_group('Dealer')\n",
    "seller_data.describe()"
   ]
  },
  {
   "cell_type": "code",
   "execution_count": null,
   "id": "b66f5322",
   "metadata": {},
   "outputs": [],
   "source": [
    "#manual encoding\n",
    "car_data.replace({'Fuel_Type':{'Petrol':0, 'Diesel':1, 'CNG':2}}, inplace=True)\n",
    "#one hot encoding\n",
    "car_data = pd.get_dummies(car_data, columns=['Seller_Type', 'Transmission'], drop_first=True)"
   ]
  },
  {
   "cell_type": "code",
   "execution_count": null,
   "id": "49d3dea2",
   "metadata": {},
   "outputs": [],
   "source": [
    "plt.figure(figsize=(10,7))\n",
    "sns.heatmap(car_data.corr(), annot=True)\n",
    "plt.title('Correlation between the columns')\n",
    "plt.show()"
   ]
  },
  {
   "cell_type": "code",
   "execution_count": null,
   "id": "b985247a",
   "metadata": {},
   "outputs": [],
   "source": [
    "fig=plt.figure(figsize=(7,5))\n",
    "plt.title('Correlation between present price and selling price')\n",
    "sns.regplot(x='Present_Price', y='Selling_Price', data=car_data)"
   ]
  },
  {
   "cell_type": "markdown",
   "id": "4e5cbaf6",
   "metadata": {},
   "source": [
    "### training using Linear regression"
   ]
  },
  {
   "cell_type": "code",
   "execution_count": null,
   "id": "4e737212",
   "metadata": {},
   "outputs": [],
   "source": [
    "X = car_data.drop(['Car_Name','Selling_Price'], axis=1)\n",
    "y = car_data['Selling_Price']"
   ]
  },
  {
   "cell_type": "code",
   "execution_count": null,
   "id": "8f457869",
   "metadata": {},
   "outputs": [],
   "source": [
    "print(\"Shape of X is: \",X.shape)\n",
    "print(\"Shape of y is: \", y.shape)"
   ]
  },
  {
   "cell_type": "code",
   "execution_count": null,
   "id": "61123efa",
   "metadata": {},
   "outputs": [],
   "source": [
    "X_train, X_test, y_train, y_test = train_test_split(X,y, test_size=0.3, random_state=42)"
   ]
  },
  {
   "cell_type": "code",
   "execution_count": null,
   "id": "2d74d764",
   "metadata": {},
   "outputs": [],
   "source": [
    "print(\"X_test shape:\", X_test.shape)\n",
    "print(\"X_train shape:\", X_train.shape)\n",
    "print(\"y_test shape: \", y_test.shape)\n",
    "print(\"y_train shape:\", y_train.shape)"
   ]
  },
  {
   "cell_type": "code",
   "execution_count": null,
   "id": "1ebf6e5f",
   "metadata": {},
   "outputs": [],
   "source": [
    "scaler = StandardScaler()"
   ]
  },
  {
   "cell_type": "code",
   "execution_count": null,
   "id": "c12e43a2",
   "metadata": {},
   "outputs": [],
   "source": [
    "X_train = scaler.fit_transform(X_train)\n",
    "X_test = scaler.transform(X_test)"
   ]
  },
  {
   "cell_type": "code",
   "execution_count": null,
   "id": "271232cc",
   "metadata": {},
   "outputs": [],
   "source": [
    "model = LinearRegression()"
   ]
  },
  {
   "cell_type": "code",
   "execution_count": null,
   "id": "fc7f1152",
   "metadata": {},
   "outputs": [],
   "source": [
    "model.fit(X_train, y_train)"
   ]
  },
  {
   "cell_type": "code",
   "execution_count": null,
   "id": "0152db98",
   "metadata": {},
   "outputs": [],
   "source": [
    "pred = model.predict(X_test)"
   ]
  },
  {
   "cell_type": "code",
   "execution_count": null,
   "id": "88fd0b9b",
   "metadata": {},
   "outputs": [],
   "source": [
    "print(\"MAE: \", (metrics.mean_absolute_error(pred, y_test)))\n",
    "print(\"MSE: \", (metrics.mean_squared_error(pred, y_test)))\n",
    "print(\"R2 score: \", (metrics.r2_score(pred, y_test)))"
   ]
  },
  {
   "cell_type": "code",
   "execution_count": null,
   "id": "5319b82b",
   "metadata": {},
   "outputs": [],
   "source": [
    "sns.regplot(x=pred, y=y_test)\n",
    "plt.xlabel(\"Predicted Price\")\n",
    "plt.ylabel('Actual Price')\n",
    "plt.title(\"ACtual vs predicted price\")\n",
    "plt.show()"
   ]
  }
 ],
 "metadata": {
  "kernelspec": {
   "display_name": "Python 3 (ipykernel)",
   "language": "python",
   "name": "python3"
  },
  "language_info": {
   "codemirror_mode": {
    "name": "ipython",
    "version": 3
   },
   "file_extension": ".py",
   "mimetype": "text/x-python",
   "name": "python",
   "nbconvert_exporter": "python",
   "pygments_lexer": "ipython3",
   "version": "3.10.12"
  }
 },
 "nbformat": 4,
 "nbformat_minor": 5
}
