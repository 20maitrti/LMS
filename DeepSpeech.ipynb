{
 "cells": [
  {
   "cell_type": "code",
   "execution_count": null,
   "id": "cacbe9e9",
   "metadata": {},
   "outputs": [],
   "source": [
    "!wget https://github.com/mozilla/DeepSpeech/releases/download/v0.9.3/deepspeech-0.9.3-models.pbmm\n",
    "!wget https://github.com/mozilla/DeepSpeech/releases/download/v0.9.3/deepspeech-0.9.3-models.scorer"
   ]
  },
  {
   "cell_type": "code",
   "execution_count": null,
   "id": "25cb8347",
   "metadata": {},
   "outputs": [],
   "source": [
    "!pip install deepspeech"
   ]
  },
  {
   "cell_type": "code",
   "execution_count": null,
   "id": "6efe8695",
   "metadata": {},
   "outputs": [],
   "source": [
    "!deepspeech --model deepspeech-0.9.3-models.pbmm --scorer deepspeech-0.9.3-models.scorer --audio harvard.wav"
   ]
  },
  {
   "cell_type": "code",
   "execution_count": null,
   "id": "f953c64a",
   "metadata": {},
   "outputs": [],
   "source": [
    "# if \"FileNotFoundError: [Errno 2] SoX not found, use 16000hz files or install it: No such file or directory\" error occurs then run this cell\n",
    "\n",
    "!apt update\n",
    "!apt install apt install sox libsox-fmt-all -y"
   ]
  }
 ],
 "metadata": {
  "kernelspec": {
   "display_name": "Python 3 (ipykernel)",
   "language": "python",
   "name": "python3"
  },
  "language_info": {
   "codemirror_mode": {
    "name": "ipython",
    "version": 3
   },
   "file_extension": ".py",
   "mimetype": "text/x-python",
   "name": "python",
   "nbconvert_exporter": "python",
   "pygments_lexer": "ipython3",
   "version": "3.8.10"
  }
 },
 "nbformat": 4,
 "nbformat_minor": 5
}
